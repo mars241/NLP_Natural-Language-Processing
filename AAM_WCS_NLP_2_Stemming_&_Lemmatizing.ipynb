{
  "nbformat": 4,
  "nbformat_minor": 0,
  "metadata": {
    "colab": {
      "provenance": [],
      "authorship_tag": "ABX9TyMHGCLxtkePodYJUaEK1AyV",
      "include_colab_link": true
    },
    "kernelspec": {
      "name": "python3",
      "display_name": "Python 3"
    },
    "language_info": {
      "name": "python"
    }
  },
  "cells": [
    {
      "cell_type": "markdown",
      "metadata": {
        "id": "view-in-github",
        "colab_type": "text"
      },
      "source": [
        "<a href=\"https://colab.research.google.com/github/mars241/NLP_Natural-Language-Processing/blob/main/AAM_WCS_NLP_2_Stemming_%26_Lemmatizing.ipynb\" target=\"_parent\"><img src=\"https://colab.research.google.com/assets/colab-badge.svg\" alt=\"Open In Colab\"/></a>"
      ]
    },
    {
      "cell_type": "markdown",
      "source": [
        "#🦾Challenge\n",
        "Tu vas reprendre ton notebook de la quête précédente, puis effectuer les étapes ci-dessous.\n",
        "\n",
        "1. A partir de ton texte déjà nettoyé, donc en minuscule, sans stopwords ni ponctuation, utilise un stemmer pour rendre le corpus de mots encore plus pertinent, puis utilise FreqDist. Le stemmer a-t-il permis de faire remonter des informations pertinentes en regroupant certains mots de même racine ?\n",
        "2. A partir de ton texte déjà nettoyé, donc en minuscule, sans stopwords ni ponctuation, utilise un lemmatizer pour rendre le corpus de mots encore plus pertinent, puis utilise FreqDist. Le lemmatizer a-t-il permis de faire remonter des informations pertinentes en regroupant certains mots de même racine ?\n",
        "\n",
        "/ ! \\ Attention, pour cette seconde étape, repars du texte nettoyé, mais pas du texte après stemmer. Le but de cet exercice est de comparer les deux méthodes\n",
        "\n",
        "Compare les deux méthodes : les mots avec les plus grandes valeurs dans le FreqDist sont-ils les mêmes ?\n",
        "Partage le lien vers ton notebook en guise de solution au challenge.\n",
        "\n",
        "Critères de validation\n",
        "Le notebook est consultable pour toute personne disposant du lien fourni par l'élève.\n",
        "NLTK et spacy sont utilisés pour réaliser le preprocessing du texte.\n",
        "La comparaison entre stemmer et lemmatizer est effectuée.\n",
        "\n",
        "# Objectifs\n",
        "Les **deux techniques de pré-processing** très importantes : le stemming et le lemmatizing qui permèmetent de ***rassambler les mots de même racine, pour leurs donner plus de poids dans l'analyse***.\n",
        "\n",
        "Comprendre **le stemming (tronquer quelques caratères en fin de mot)** et savoir l'implémenter en Python.\n",
        "\n",
        "Comprendre **le lemmatizing (Analyse sémentique et gramaticale)** et savoir l'implémenter en Python."
      ],
      "metadata": {
        "id": "RX3JyZC-IqCd"
      }
    },
    {
      "cell_type": "code",
      "execution_count": null,
      "metadata": {
        "colab": {
          "base_uri": "https://localhost:8080/"
        },
        "id": "z4VjQTciIVqd",
        "outputId": "96d79d87-a60d-49f2-e6e4-aa8995f0ddb6"
      },
      "outputs": [
        {
          "output_type": "stream",
          "name": "stderr",
          "text": [
            "[nltk_data] Downloading collection 'popular'\n",
            "[nltk_data]    | \n",
            "[nltk_data]    | Downloading package cmudict to /root/nltk_data...\n",
            "[nltk_data]    |   Unzipping corpora/cmudict.zip.\n",
            "[nltk_data]    | Downloading package gazetteers to /root/nltk_data...\n",
            "[nltk_data]    |   Unzipping corpora/gazetteers.zip.\n",
            "[nltk_data]    | Downloading package genesis to /root/nltk_data...\n",
            "[nltk_data]    |   Unzipping corpora/genesis.zip.\n",
            "[nltk_data]    | Downloading package gutenberg to /root/nltk_data...\n",
            "[nltk_data]    |   Unzipping corpora/gutenberg.zip.\n",
            "[nltk_data]    | Downloading package inaugural to /root/nltk_data...\n",
            "[nltk_data]    |   Unzipping corpora/inaugural.zip.\n",
            "[nltk_data]    | Downloading package movie_reviews to\n",
            "[nltk_data]    |     /root/nltk_data...\n",
            "[nltk_data]    |   Unzipping corpora/movie_reviews.zip.\n",
            "[nltk_data]    | Downloading package names to /root/nltk_data...\n",
            "[nltk_data]    |   Unzipping corpora/names.zip.\n",
            "[nltk_data]    | Downloading package shakespeare to /root/nltk_data...\n",
            "[nltk_data]    |   Unzipping corpora/shakespeare.zip.\n",
            "[nltk_data]    | Downloading package stopwords to /root/nltk_data...\n",
            "[nltk_data]    |   Unzipping corpora/stopwords.zip.\n",
            "[nltk_data]    | Downloading package treebank to /root/nltk_data...\n",
            "[nltk_data]    |   Unzipping corpora/treebank.zip.\n",
            "[nltk_data]    | Downloading package twitter_samples to\n",
            "[nltk_data]    |     /root/nltk_data...\n",
            "[nltk_data]    |   Unzipping corpora/twitter_samples.zip.\n",
            "[nltk_data]    | Downloading package omw to /root/nltk_data...\n",
            "[nltk_data]    | Downloading package omw-1.4 to /root/nltk_data...\n",
            "[nltk_data]    | Downloading package wordnet to /root/nltk_data...\n",
            "[nltk_data]    | Downloading package wordnet2021 to /root/nltk_data...\n",
            "[nltk_data]    | Downloading package wordnet31 to /root/nltk_data...\n",
            "[nltk_data]    | Downloading package wordnet_ic to /root/nltk_data...\n",
            "[nltk_data]    |   Unzipping corpora/wordnet_ic.zip.\n",
            "[nltk_data]    | Downloading package words to /root/nltk_data...\n",
            "[nltk_data]    |   Unzipping corpora/words.zip.\n",
            "[nltk_data]    | Downloading package maxent_ne_chunker to\n",
            "[nltk_data]    |     /root/nltk_data...\n",
            "[nltk_data]    |   Unzipping chunkers/maxent_ne_chunker.zip.\n",
            "[nltk_data]    | Downloading package punkt to /root/nltk_data...\n",
            "[nltk_data]    |   Unzipping tokenizers/punkt.zip.\n",
            "[nltk_data]    | Downloading package snowball_data to\n",
            "[nltk_data]    |     /root/nltk_data...\n",
            "[nltk_data]    | Downloading package averaged_perceptron_tagger to\n",
            "[nltk_data]    |     /root/nltk_data...\n",
            "[nltk_data]    |   Unzipping taggers/averaged_perceptron_tagger.zip.\n",
            "[nltk_data]    | \n",
            "[nltk_data]  Done downloading collection popular\n"
          ]
        },
        {
          "output_type": "execute_result",
          "data": {
            "text/plain": [
              "True"
            ]
          },
          "metadata": {},
          "execution_count": 1
        }
      ],
      "source": [
        "# 1) Importer le NLTK en mode des \"modules les plus classiques et les dictionnaires anglais\"\n",
        "import nltk\n",
        "nltk.download('popular')"
      ]
    },
    {
      "cell_type": "code",
      "source": [
        "# Affecte le texte à une variable via un copier/coller dans ton notebook.\n",
        "\n",
        "sentence = 'This is a story about dogs our canine pets Dogs are furry animals ! Ceci est une histoire de chiens nos animaux de compagnie. Les chiens sont des animaux à fourrure !'\n",
        "print(sentence)"
      ],
      "metadata": {
        "colab": {
          "base_uri": "https://localhost:8080/"
        },
        "id": "okJXE8_CKX2n",
        "outputId": "7112c0cf-e42b-442a-96ab-55c87a0a9245"
      },
      "execution_count": null,
      "outputs": [
        {
          "output_type": "stream",
          "name": "stdout",
          "text": [
            "This is a story about dogs our canine pets Dogs are furry animals ! Ceci est une histoire de chiens nos animaux de compagnie. Les chiens sont des animaux à fourrure !\n"
          ]
        }
      ]
    },
    {
      "cell_type": "code",
      "source": [
        "# 1) A partir de ton texte déjà nettoyé, donc en minuscule, sans stopwords ni ponctuation, \n",
        "# utilise un stemmer pour rendre le corpus de mots encore plus pertinent, puis utilise FreqDist.\n",
        "\n",
        "# 1.1) Mettre minuscule\n",
        "sentence = sentence.lower() \n",
        "sentence"
      ],
      "metadata": {
        "colab": {
          "base_uri": "https://localhost:8080/",
          "height": 36
        },
        "id": "buCcUeKIK5k-",
        "outputId": "5dfc6a4e-17ba-4aae-d06a-721bc0b718a4"
      },
      "execution_count": null,
      "outputs": [
        {
          "output_type": "execute_result",
          "data": {
            "text/plain": [
              "'this is a story about dogs our canine pets dogs are furry animals ! ceci est une histoire de chiens nos animaux de compagnie. les chiens sont des animaux à fourrure !'"
            ],
            "application/vnd.google.colaboratory.intrinsic+json": {
              "type": "string"
            }
          },
          "metadata": {},
          "execution_count": 59
        }
      ]
    },
    {
      "cell_type": "code",
      "source": [
        "# 1.2) Enlever la ponctuation\n",
        "\n",
        "import string # Importer le module correspondant\n",
        "#string.punctuation #  Pour afficher la liste des ponctuations visés\n",
        "for punctuation in string.punctuation:\n",
        "    sentence = sentence.replace(punctuation, ' ') \n",
        "\n",
        "sentence"
      ],
      "metadata": {
        "colab": {
          "base_uri": "https://localhost:8080/",
          "height": 36
        },
        "id": "7ioWCvFXMMPp",
        "outputId": "b4fe6d46-c109-4456-8933-b2a00dbc4e5f"
      },
      "execution_count": null,
      "outputs": [
        {
          "output_type": "execute_result",
          "data": {
            "text/plain": [
              "'this is a story about dogs our canine pets dogs are furry animals   ceci est une histoire de chiens nos animaux de compagnie  les chiens sont des animaux à fourrure  '"
            ],
            "application/vnd.google.colaboratory.intrinsic+json": {
              "type": "string"
            }
          },
          "metadata": {},
          "execution_count": 60
        }
      ]
    },
    {
      "cell_type": "code",
      "source": [
        "# 1.3) Enlever les stops words \n",
        "nltk.download('stopwords') # téléchargement du pakage stop word"
      ],
      "metadata": {
        "colab": {
          "base_uri": "https://localhost:8080/"
        },
        "id": "HM1464yMOCIC",
        "outputId": "254eb504-3119-4abf-9172-c0bb8c30dea0"
      },
      "execution_count": null,
      "outputs": [
        {
          "output_type": "stream",
          "name": "stderr",
          "text": [
            "[nltk_data] Downloading package stopwords to /root/nltk_data...\n",
            "[nltk_data]   Package stopwords is already up-to-date!\n"
          ]
        },
        {
          "output_type": "execute_result",
          "data": {
            "text/plain": [
              "True"
            ]
          },
          "metadata": {},
          "execution_count": 61
        }
      ]
    },
    {
      "cell_type": "code",
      "source": [
        "# (...Suite) 1.3) Enlever les stops words \n",
        "from nltk.corpus import stopwords \n",
        "from nltk.tokenize import word_tokenize\n",
        "#  Afficher le stop words dans le repectoire anglais\n",
        "stop_words = stopwords.words('english')\n",
        "\n",
        "stop_words"
      ],
      "metadata": {
        "colab": {
          "base_uri": "https://localhost:8080/"
        },
        "id": "zcqF1FZlPYbl",
        "outputId": "377ad979-c8a4-4d9b-c327-b894f446c442"
      },
      "execution_count": 70,
      "outputs": [
        {
          "output_type": "execute_result",
          "data": {
            "text/plain": [
              "['i',\n",
              " 'me',\n",
              " 'my',\n",
              " 'myself',\n",
              " 'we',\n",
              " 'our',\n",
              " 'ours',\n",
              " 'ourselves',\n",
              " 'you',\n",
              " \"you're\",\n",
              " \"you've\",\n",
              " \"you'll\",\n",
              " \"you'd\",\n",
              " 'your',\n",
              " 'yours',\n",
              " 'yourself',\n",
              " 'yourselves',\n",
              " 'he',\n",
              " 'him',\n",
              " 'his',\n",
              " 'himself',\n",
              " 'she',\n",
              " \"she's\",\n",
              " 'her',\n",
              " 'hers',\n",
              " 'herself',\n",
              " 'it',\n",
              " \"it's\",\n",
              " 'its',\n",
              " 'itself',\n",
              " 'they',\n",
              " 'them',\n",
              " 'their',\n",
              " 'theirs',\n",
              " 'themselves',\n",
              " 'what',\n",
              " 'which',\n",
              " 'who',\n",
              " 'whom',\n",
              " 'this',\n",
              " 'that',\n",
              " \"that'll\",\n",
              " 'these',\n",
              " 'those',\n",
              " 'am',\n",
              " 'is',\n",
              " 'are',\n",
              " 'was',\n",
              " 'were',\n",
              " 'be',\n",
              " 'been',\n",
              " 'being',\n",
              " 'have',\n",
              " 'has',\n",
              " 'had',\n",
              " 'having',\n",
              " 'do',\n",
              " 'does',\n",
              " 'did',\n",
              " 'doing',\n",
              " 'a',\n",
              " 'an',\n",
              " 'the',\n",
              " 'and',\n",
              " 'but',\n",
              " 'if',\n",
              " 'or',\n",
              " 'because',\n",
              " 'as',\n",
              " 'until',\n",
              " 'while',\n",
              " 'of',\n",
              " 'at',\n",
              " 'by',\n",
              " 'for',\n",
              " 'with',\n",
              " 'about',\n",
              " 'against',\n",
              " 'between',\n",
              " 'into',\n",
              " 'through',\n",
              " 'during',\n",
              " 'before',\n",
              " 'after',\n",
              " 'above',\n",
              " 'below',\n",
              " 'to',\n",
              " 'from',\n",
              " 'up',\n",
              " 'down',\n",
              " 'in',\n",
              " 'out',\n",
              " 'on',\n",
              " 'off',\n",
              " 'over',\n",
              " 'under',\n",
              " 'again',\n",
              " 'further',\n",
              " 'then',\n",
              " 'once',\n",
              " 'here',\n",
              " 'there',\n",
              " 'when',\n",
              " 'where',\n",
              " 'why',\n",
              " 'how',\n",
              " 'all',\n",
              " 'any',\n",
              " 'both',\n",
              " 'each',\n",
              " 'few',\n",
              " 'more',\n",
              " 'most',\n",
              " 'other',\n",
              " 'some',\n",
              " 'such',\n",
              " 'no',\n",
              " 'nor',\n",
              " 'not',\n",
              " 'only',\n",
              " 'own',\n",
              " 'same',\n",
              " 'so',\n",
              " 'than',\n",
              " 'too',\n",
              " 'very',\n",
              " 's',\n",
              " 't',\n",
              " 'can',\n",
              " 'will',\n",
              " 'just',\n",
              " 'don',\n",
              " \"don't\",\n",
              " 'should',\n",
              " \"should've\",\n",
              " 'now',\n",
              " 'd',\n",
              " 'll',\n",
              " 'm',\n",
              " 'o',\n",
              " 're',\n",
              " 've',\n",
              " 'y',\n",
              " 'ain',\n",
              " 'aren',\n",
              " \"aren't\",\n",
              " 'couldn',\n",
              " \"couldn't\",\n",
              " 'didn',\n",
              " \"didn't\",\n",
              " 'doesn',\n",
              " \"doesn't\",\n",
              " 'hadn',\n",
              " \"hadn't\",\n",
              " 'hasn',\n",
              " \"hasn't\",\n",
              " 'haven',\n",
              " \"haven't\",\n",
              " 'isn',\n",
              " \"isn't\",\n",
              " 'ma',\n",
              " 'mightn',\n",
              " \"mightn't\",\n",
              " 'mustn',\n",
              " \"mustn't\",\n",
              " 'needn',\n",
              " \"needn't\",\n",
              " 'shan',\n",
              " \"shan't\",\n",
              " 'shouldn',\n",
              " \"shouldn't\",\n",
              " 'wasn',\n",
              " \"wasn't\",\n",
              " 'weren',\n",
              " \"weren't\",\n",
              " 'won',\n",
              " \"won't\",\n",
              " 'wouldn',\n",
              " \"wouldn't\"]"
            ]
          },
          "metadata": {},
          "execution_count": 70
        }
      ]
    },
    {
      "cell_type": "code",
      "source": [
        "#  Afficher le stop words dans le repectoire Français\n",
        "stopwords.words('french')"
      ],
      "metadata": {
        "colab": {
          "base_uri": "https://localhost:8080/"
        },
        "id": "fD_60-dtP707",
        "outputId": "7011a26b-5da5-4c0b-9093-6bfe8a29dd70"
      },
      "execution_count": null,
      "outputs": [
        {
          "output_type": "execute_result",
          "data": {
            "text/plain": [
              "['au',\n",
              " 'aux',\n",
              " 'avec',\n",
              " 'ce',\n",
              " 'ces',\n",
              " 'dans',\n",
              " 'de',\n",
              " 'des',\n",
              " 'du',\n",
              " 'elle',\n",
              " 'en',\n",
              " 'et',\n",
              " 'eux',\n",
              " 'il',\n",
              " 'ils',\n",
              " 'je',\n",
              " 'la',\n",
              " 'le',\n",
              " 'les',\n",
              " 'leur',\n",
              " 'lui',\n",
              " 'ma',\n",
              " 'mais',\n",
              " 'me',\n",
              " 'même',\n",
              " 'mes',\n",
              " 'moi',\n",
              " 'mon',\n",
              " 'ne',\n",
              " 'nos',\n",
              " 'notre',\n",
              " 'nous',\n",
              " 'on',\n",
              " 'ou',\n",
              " 'par',\n",
              " 'pas',\n",
              " 'pour',\n",
              " 'qu',\n",
              " 'que',\n",
              " 'qui',\n",
              " 'sa',\n",
              " 'se',\n",
              " 'ses',\n",
              " 'son',\n",
              " 'sur',\n",
              " 'ta',\n",
              " 'te',\n",
              " 'tes',\n",
              " 'toi',\n",
              " 'ton',\n",
              " 'tu',\n",
              " 'un',\n",
              " 'une',\n",
              " 'vos',\n",
              " 'votre',\n",
              " 'vous',\n",
              " 'c',\n",
              " 'd',\n",
              " 'j',\n",
              " 'l',\n",
              " 'à',\n",
              " 'm',\n",
              " 'n',\n",
              " 's',\n",
              " 't',\n",
              " 'y',\n",
              " 'été',\n",
              " 'étée',\n",
              " 'étées',\n",
              " 'étés',\n",
              " 'étant',\n",
              " 'étante',\n",
              " 'étants',\n",
              " 'étantes',\n",
              " 'suis',\n",
              " 'es',\n",
              " 'est',\n",
              " 'sommes',\n",
              " 'êtes',\n",
              " 'sont',\n",
              " 'serai',\n",
              " 'seras',\n",
              " 'sera',\n",
              " 'serons',\n",
              " 'serez',\n",
              " 'seront',\n",
              " 'serais',\n",
              " 'serait',\n",
              " 'serions',\n",
              " 'seriez',\n",
              " 'seraient',\n",
              " 'étais',\n",
              " 'était',\n",
              " 'étions',\n",
              " 'étiez',\n",
              " 'étaient',\n",
              " 'fus',\n",
              " 'fut',\n",
              " 'fûmes',\n",
              " 'fûtes',\n",
              " 'furent',\n",
              " 'sois',\n",
              " 'soit',\n",
              " 'soyons',\n",
              " 'soyez',\n",
              " 'soient',\n",
              " 'fusse',\n",
              " 'fusses',\n",
              " 'fût',\n",
              " 'fussions',\n",
              " 'fussiez',\n",
              " 'fussent',\n",
              " 'ayant',\n",
              " 'ayante',\n",
              " 'ayantes',\n",
              " 'ayants',\n",
              " 'eu',\n",
              " 'eue',\n",
              " 'eues',\n",
              " 'eus',\n",
              " 'ai',\n",
              " 'as',\n",
              " 'avons',\n",
              " 'avez',\n",
              " 'ont',\n",
              " 'aurai',\n",
              " 'auras',\n",
              " 'aura',\n",
              " 'aurons',\n",
              " 'aurez',\n",
              " 'auront',\n",
              " 'aurais',\n",
              " 'aurait',\n",
              " 'aurions',\n",
              " 'auriez',\n",
              " 'auraient',\n",
              " 'avais',\n",
              " 'avait',\n",
              " 'avions',\n",
              " 'aviez',\n",
              " 'avaient',\n",
              " 'eut',\n",
              " 'eûmes',\n",
              " 'eûtes',\n",
              " 'eurent',\n",
              " 'aie',\n",
              " 'aies',\n",
              " 'ait',\n",
              " 'ayons',\n",
              " 'ayez',\n",
              " 'aient',\n",
              " 'eusse',\n",
              " 'eusses',\n",
              " 'eût',\n",
              " 'eussions',\n",
              " 'eussiez',\n",
              " 'eussent']"
            ]
          },
          "metadata": {},
          "execution_count": 63
        }
      ]
    },
    {
      "cell_type": "code",
      "source": [
        "# Pour enlever les tokens en Anglais\n",
        "tokens = nltk.word_tokenize(sentence)\n",
        "\n",
        "tokens_clean = []\n",
        "for words in tokens:\n",
        "  if words not in nltk.corpus.stopwords.words(\"english\"):\n",
        "    tokens_clean.append(words)\n",
        "\n",
        "tokens_clean"
      ],
      "metadata": {
        "colab": {
          "base_uri": "https://localhost:8080/"
        },
        "id": "6ju--5HKQjd2",
        "outputId": "fddf849c-3799-4080-9732-f9b5892d9622"
      },
      "execution_count": null,
      "outputs": [
        {
          "output_type": "execute_result",
          "data": {
            "text/plain": [
              "['story',\n",
              " 'dogs',\n",
              " 'canine',\n",
              " 'pets',\n",
              " 'dogs',\n",
              " 'furry',\n",
              " 'animals',\n",
              " 'ceci',\n",
              " 'est',\n",
              " 'une',\n",
              " 'histoire',\n",
              " 'de',\n",
              " 'chiens',\n",
              " 'nos',\n",
              " 'animaux',\n",
              " 'de',\n",
              " 'compagnie',\n",
              " 'les',\n",
              " 'chiens',\n",
              " 'sont',\n",
              " 'des',\n",
              " 'animaux',\n",
              " 'à',\n",
              " 'fourrure']"
            ]
          },
          "metadata": {},
          "execution_count": 50
        }
      ]
    },
    {
      "cell_type": "code",
      "source": [
        "# Pour enlever les tokens en Français\n",
        "tokens = nltk.word_tokenize(sentence)\n",
        "\n",
        "tokens_clean = []\n",
        "for words in tokens:\n",
        "  if words not in nltk.corpus.stopwords.words('french'):\n",
        "    tokens_clean.append(words)\n",
        "\n",
        "tokens_clean"
      ],
      "metadata": {
        "colab": {
          "base_uri": "https://localhost:8080/"
        },
        "id": "rk1IxT39TSq_",
        "outputId": "08a5cdcf-d0b8-4d32-a1db-9c07a94c99d6"
      },
      "execution_count": null,
      "outputs": [
        {
          "output_type": "execute_result",
          "data": {
            "text/plain": [
              "['this',\n",
              " 'is',\n",
              " 'a',\n",
              " 'story',\n",
              " 'about',\n",
              " 'dogs',\n",
              " 'our',\n",
              " 'canine',\n",
              " 'pets',\n",
              " 'dogs',\n",
              " 'are',\n",
              " 'furry',\n",
              " 'animals',\n",
              " 'ceci',\n",
              " 'histoire',\n",
              " 'chiens',\n",
              " 'animaux',\n",
              " 'compagnie',\n",
              " 'chiens',\n",
              " 'animaux',\n",
              " 'fourrure']"
            ]
          },
          "metadata": {},
          "execution_count": 64
        }
      ]
    },
    {
      "cell_type": "code",
      "source": [
        "# Couper le text en phrase (c'est tt le texte car plus de ponctuation dans ce dernier)\n",
        "tokens_words= nltk.sent_tokenize(sentence)\n",
        "tokens_words"
      ],
      "metadata": {
        "colab": {
          "base_uri": "https://localhost:8080/"
        },
        "id": "0litHUGMV2KZ",
        "outputId": "95f1c7ff-38ae-40b9-d275-6981169cfa3e"
      },
      "execution_count": 74,
      "outputs": [
        {
          "output_type": "execute_result",
          "data": {
            "text/plain": [
              "['this is a story about dogs our canine pets dogs are furry animals   ceci est une histoire de chiens nos animaux de compagnie  les chiens sont des animaux à fourrure']"
            ]
          },
          "metadata": {},
          "execution_count": 74
        }
      ]
    },
    {
      "cell_type": "markdown",
      "source": [
        "# Méthode1 du \"SnowballStemmer\""
      ],
      "metadata": {
        "id": "m8PATeN-cqnO"
      }
    },
    {
      "cell_type": "code",
      "source": [
        "# ...Suite 3) utilise un stemmer pour rendre le corpus de mots encore plus pertinent, puis utilise FreqDist.\n",
        "# ANGLAIS\n",
        "# Le stemmer le plus connu en anglais est PorterStemmer. Ici nous allons utiliser 'SnowballStemmer' qui a l'avantage de gérer d'autres langues.\n",
        "# Effectuons un premier essai avec un print de chaque stemming de token :\n",
        "\n",
        "from nltk.stem import SnowballStemmer\n",
        "\n",
        "stem_en = SnowballStemmer(\"english\")\n",
        "for word in nltk.word_tokenize(sentence):\n",
        "  print(stem_en.stem(word))"
      ],
      "metadata": {
        "colab": {
          "base_uri": "https://localhost:8080/"
        },
        "id": "bpN0EDvCRMPL",
        "outputId": "5b5c6a99-81ca-4874-a9c9-c879e930e016"
      },
      "execution_count": null,
      "outputs": [
        {
          "output_type": "stream",
          "name": "stdout",
          "text": [
            "this\n",
            "is\n",
            "a\n",
            "stori\n",
            "about\n",
            "dog\n",
            "our\n",
            "canin\n",
            "pet\n",
            "dog\n",
            "are\n",
            "furri\n",
            "anim\n",
            "ceci\n",
            "est\n",
            "une\n",
            "histoir\n",
            "de\n",
            "chien\n",
            "nos\n",
            "animaux\n",
            "de\n",
            "compagni\n",
            "les\n",
            "chien\n",
            "sont\n",
            "des\n",
            "animaux\n",
            "à\n",
            "fourrur\n"
          ]
        }
      ]
    },
    {
      "cell_type": "code",
      "source": [
        "# Utilisons maintenant la compréhension du \"SnowballStemmer\" de liste afin de stocker les résultats dans une liste :\n",
        "[stem_en.stem(word) for word in nltk.word_tokenize(sentence)]"
      ],
      "metadata": {
        "colab": {
          "base_uri": "https://localhost:8080/"
        },
        "id": "pvuHAPQmYS07",
        "outputId": "908208ba-fd1a-4dbf-efc4-498bf14b260a"
      },
      "execution_count": null,
      "outputs": [
        {
          "output_type": "execute_result",
          "data": {
            "text/plain": [
              "['this',\n",
              " 'is',\n",
              " 'a',\n",
              " 'stori',\n",
              " 'about',\n",
              " 'dog',\n",
              " 'our',\n",
              " 'canin',\n",
              " 'pet',\n",
              " 'dog',\n",
              " 'are',\n",
              " 'furri',\n",
              " 'anim',\n",
              " 'ceci',\n",
              " 'est',\n",
              " 'une',\n",
              " 'histoir',\n",
              " 'de',\n",
              " 'chien',\n",
              " 'nos',\n",
              " 'animaux',\n",
              " 'de',\n",
              " 'compagni',\n",
              " 'les',\n",
              " 'chien',\n",
              " 'sont',\n",
              " 'des',\n",
              " 'animaux',\n",
              " 'à',\n",
              " 'fourrur']"
            ]
          },
          "metadata": {},
          "execution_count": 39
        }
      ]
    },
    {
      "cell_type": "code",
      "source": [
        "# ...Suite 3) ..., puis utilise FreqDist.\n",
        "# Nous pouvons maintenant faire un FreqDist sur cette nouvelle liste de tokens, et avec la phrase complète :\n",
        "sent_stem  = [stem_en.stem(word) for word in nltk.word_tokenize(sentence)]\n",
        "full_vocab = nltk.FreqDist(sent_stem)\n",
        "full_vocab"
      ],
      "metadata": {
        "colab": {
          "base_uri": "https://localhost:8080/"
        },
        "id": "Nic4hNPDZiOw",
        "outputId": "cb6f5671-5b9c-4e12-c472-da10cdbc5132"
      },
      "execution_count": 68,
      "outputs": [
        {
          "output_type": "execute_result",
          "data": {
            "text/plain": [
              "FreqDist({'animal': 3, 'de': 3, 'dog': 2, 'chien': 2, 'this': 1, 'is': 1, 'a': 1, 'story': 1, 'about': 1, 'our': 1, ...})"
            ]
          },
          "metadata": {},
          "execution_count": 68
        }
      ]
    },
    {
      "cell_type": "code",
      "source": [
        "# ...Suite 3) utilise un stemmer pour rendre le corpus de mots encore plus pertinent, puis utilise FreqDist.\n",
        "# FRANCAIS\n",
        "# Le stemmer le plus connu en anglais est PorterStemmer. Ici nous allons utiliser 'SnowballStemmer' qui a l'avantage de gérer d'autres langues.\n",
        "# Effectuons un premier essai avec un print de chaque stemming de token :\n",
        "\n",
        "from nltk.stem import SnowballStemmer\n",
        "\n",
        "stem_en = SnowballStemmer(\"french\")\n",
        "for word in nltk.word_tokenize(sentence):\n",
        "  print(stem_en.stem(word))"
      ],
      "metadata": {
        "colab": {
          "base_uri": "https://localhost:8080/"
        },
        "id": "5pD68MPMhIxn",
        "outputId": "260fb176-5f27-4668-b350-135490282461"
      },
      "execution_count": null,
      "outputs": [
        {
          "output_type": "stream",
          "name": "stdout",
          "text": [
            "this\n",
            "is\n",
            "a\n",
            "story\n",
            "about\n",
            "dog\n",
            "our\n",
            "canin\n",
            "pet\n",
            "dog\n",
            "are\n",
            "furry\n",
            "animal\n",
            "cec\n",
            "est\n",
            "une\n",
            "histoir\n",
            "de\n",
            "chien\n",
            "nos\n",
            "animal\n",
            "de\n",
            "compagn\n",
            "le\n",
            "chien\n",
            "sont\n",
            "de\n",
            "animal\n",
            "à\n",
            "fourrur\n"
          ]
        }
      ]
    },
    {
      "cell_type": "code",
      "source": [
        "# Mieux visualiser \"la compréhension du \"SnowballStemmer\"\" avec pandas :\n",
        "import pandas as pd\n",
        "df_mytext = pd.DataFrame([full_vocab])\n",
        "df_mytext"
      ],
      "metadata": {
        "colab": {
          "base_uri": "https://localhost:8080/",
          "height": 110
        },
        "id": "rPf-AWLLZ6Iv",
        "outputId": "89eaff9c-66b9-4e3a-af89-18033060acb7"
      },
      "execution_count": 73,
      "outputs": [
        {
          "output_type": "execute_result",
          "data": {
            "text/plain": [
              "   this  is  a  story  about  dog  our  canin  pet  are  ...  une  histoir  \\\n",
              "0     1   1  1      1      1    2    1      1    1    1  ...    1        1   \n",
              "\n",
              "   de  chien  nos  compagn  le  sont  à  fourrur  \n",
              "0   3      2    1        1   1     1  1        1  \n",
              "\n",
              "[1 rows x 24 columns]"
            ],
            "text/html": [
              "\n",
              "  <div id=\"df-867f57f0-8250-4296-b33c-c383a0c6ccf9\">\n",
              "    <div class=\"colab-df-container\">\n",
              "      <div>\n",
              "<style scoped>\n",
              "    .dataframe tbody tr th:only-of-type {\n",
              "        vertical-align: middle;\n",
              "    }\n",
              "\n",
              "    .dataframe tbody tr th {\n",
              "        vertical-align: top;\n",
              "    }\n",
              "\n",
              "    .dataframe thead th {\n",
              "        text-align: right;\n",
              "    }\n",
              "</style>\n",
              "<table border=\"1\" class=\"dataframe\">\n",
              "  <thead>\n",
              "    <tr style=\"text-align: right;\">\n",
              "      <th></th>\n",
              "      <th>this</th>\n",
              "      <th>is</th>\n",
              "      <th>a</th>\n",
              "      <th>story</th>\n",
              "      <th>about</th>\n",
              "      <th>dog</th>\n",
              "      <th>our</th>\n",
              "      <th>canin</th>\n",
              "      <th>pet</th>\n",
              "      <th>are</th>\n",
              "      <th>...</th>\n",
              "      <th>une</th>\n",
              "      <th>histoir</th>\n",
              "      <th>de</th>\n",
              "      <th>chien</th>\n",
              "      <th>nos</th>\n",
              "      <th>compagn</th>\n",
              "      <th>le</th>\n",
              "      <th>sont</th>\n",
              "      <th>à</th>\n",
              "      <th>fourrur</th>\n",
              "    </tr>\n",
              "  </thead>\n",
              "  <tbody>\n",
              "    <tr>\n",
              "      <th>0</th>\n",
              "      <td>1</td>\n",
              "      <td>1</td>\n",
              "      <td>1</td>\n",
              "      <td>1</td>\n",
              "      <td>1</td>\n",
              "      <td>2</td>\n",
              "      <td>1</td>\n",
              "      <td>1</td>\n",
              "      <td>1</td>\n",
              "      <td>1</td>\n",
              "      <td>...</td>\n",
              "      <td>1</td>\n",
              "      <td>1</td>\n",
              "      <td>3</td>\n",
              "      <td>2</td>\n",
              "      <td>1</td>\n",
              "      <td>1</td>\n",
              "      <td>1</td>\n",
              "      <td>1</td>\n",
              "      <td>1</td>\n",
              "      <td>1</td>\n",
              "    </tr>\n",
              "  </tbody>\n",
              "</table>\n",
              "<p>1 rows × 24 columns</p>\n",
              "</div>\n",
              "      <button class=\"colab-df-convert\" onclick=\"convertToInteractive('df-867f57f0-8250-4296-b33c-c383a0c6ccf9')\"\n",
              "              title=\"Convert this dataframe to an interactive table.\"\n",
              "              style=\"display:none;\">\n",
              "        \n",
              "  <svg xmlns=\"http://www.w3.org/2000/svg\" height=\"24px\"viewBox=\"0 0 24 24\"\n",
              "       width=\"24px\">\n",
              "    <path d=\"M0 0h24v24H0V0z\" fill=\"none\"/>\n",
              "    <path d=\"M18.56 5.44l.94 2.06.94-2.06 2.06-.94-2.06-.94-.94-2.06-.94 2.06-2.06.94zm-11 1L8.5 8.5l.94-2.06 2.06-.94-2.06-.94L8.5 2.5l-.94 2.06-2.06.94zm10 10l.94 2.06.94-2.06 2.06-.94-2.06-.94-.94-2.06-.94 2.06-2.06.94z\"/><path d=\"M17.41 7.96l-1.37-1.37c-.4-.4-.92-.59-1.43-.59-.52 0-1.04.2-1.43.59L10.3 9.45l-7.72 7.72c-.78.78-.78 2.05 0 2.83L4 21.41c.39.39.9.59 1.41.59.51 0 1.02-.2 1.41-.59l7.78-7.78 2.81-2.81c.8-.78.8-2.07 0-2.86zM5.41 20L4 18.59l7.72-7.72 1.47 1.35L5.41 20z\"/>\n",
              "  </svg>\n",
              "      </button>\n",
              "      \n",
              "  <style>\n",
              "    .colab-df-container {\n",
              "      display:flex;\n",
              "      flex-wrap:wrap;\n",
              "      gap: 12px;\n",
              "    }\n",
              "\n",
              "    .colab-df-convert {\n",
              "      background-color: #E8F0FE;\n",
              "      border: none;\n",
              "      border-radius: 50%;\n",
              "      cursor: pointer;\n",
              "      display: none;\n",
              "      fill: #1967D2;\n",
              "      height: 32px;\n",
              "      padding: 0 0 0 0;\n",
              "      width: 32px;\n",
              "    }\n",
              "\n",
              "    .colab-df-convert:hover {\n",
              "      background-color: #E2EBFA;\n",
              "      box-shadow: 0px 1px 2px rgba(60, 64, 67, 0.3), 0px 1px 3px 1px rgba(60, 64, 67, 0.15);\n",
              "      fill: #174EA6;\n",
              "    }\n",
              "\n",
              "    [theme=dark] .colab-df-convert {\n",
              "      background-color: #3B4455;\n",
              "      fill: #D2E3FC;\n",
              "    }\n",
              "\n",
              "    [theme=dark] .colab-df-convert:hover {\n",
              "      background-color: #434B5C;\n",
              "      box-shadow: 0px 1px 3px 1px rgba(0, 0, 0, 0.15);\n",
              "      filter: drop-shadow(0px 1px 2px rgba(0, 0, 0, 0.3));\n",
              "      fill: #FFFFFF;\n",
              "    }\n",
              "  </style>\n",
              "\n",
              "      <script>\n",
              "        const buttonEl =\n",
              "          document.querySelector('#df-867f57f0-8250-4296-b33c-c383a0c6ccf9 button.colab-df-convert');\n",
              "        buttonEl.style.display =\n",
              "          google.colab.kernel.accessAllowed ? 'block' : 'none';\n",
              "\n",
              "        async function convertToInteractive(key) {\n",
              "          const element = document.querySelector('#df-867f57f0-8250-4296-b33c-c383a0c6ccf9');\n",
              "          const dataTable =\n",
              "            await google.colab.kernel.invokeFunction('convertToInteractive',\n",
              "                                                     [key], {});\n",
              "          if (!dataTable) return;\n",
              "\n",
              "          const docLinkHtml = 'Like what you see? Visit the ' +\n",
              "            '<a target=\"_blank\" href=https://colab.research.google.com/notebooks/data_table.ipynb>data table notebook</a>'\n",
              "            + ' to learn more about interactive tables.';\n",
              "          element.innerHTML = '';\n",
              "          dataTable['output_type'] = 'display_data';\n",
              "          await google.colab.output.renderOutput(dataTable, element);\n",
              "          const docLink = document.createElement('div');\n",
              "          docLink.innerHTML = docLinkHtml;\n",
              "          element.appendChild(docLink);\n",
              "        }\n",
              "      </script>\n",
              "    </div>\n",
              "  </div>\n",
              "  "
            ]
          },
          "metadata": {},
          "execution_count": 73
        }
      ]
    },
    {
      "cell_type": "code",
      "source": [
        "# ...Suite de \"Mieux visualiser \"la compréhension du \"SnowballStemmer\" avec pandas\":\n",
        "import matplotlib.pyplot as plt\n",
        "\n",
        "plt.bar(range(len(full_vocab)), list(full_vocab.values()), align='center')\n",
        "plt.xticks(range(len(full_vocab)), list(full_vocab.keys()), rotation=90)\n",
        "plt.xlabel('Mots')\n",
        "plt.ylabel('Fréquence')\n",
        "plt.show()\n",
        "\n",
        "# Remarque : la méthode du \"SnowballStemmer\" a tronqué les \"e\" de la fin de certains mots, Est-ce dûe à cause de la mixité des langues: Anglais/Français dans le texte d'origine?"
      ],
      "metadata": {
        "colab": {
          "base_uri": "https://localhost:8080/",
          "height": 504
        },
        "id": "tQ4CdhOQbe6A",
        "outputId": "f21102b5-4fa7-487c-8ac1-7a95a7eb773c"
      },
      "execution_count": null,
      "outputs": [
        {
          "output_type": "display_data",
          "data": {
            "text/plain": [
              "<Figure size 640x480 with 1 Axes>"
            ],
            "image/png": "[encoded data removed]"
          },
          "metadata": {}
        }
      ]
    },
    {
      "cell_type": "markdown",
      "source": [
        "# Méthode 2 du \"Lemmatizer\"\n",
        "\n",
        "/ ! \\ Attention, pour cette seconde étape, repars du texte nettoyé, mais pas du texte après stemmer. Le but de cet exercice est de comparer les deux méthodes"
      ],
      "metadata": {
        "id": "mujKupFedQXT"
      }
    },
    {
      "cell_type": "code",
      "source": [
        "# On remet en string en utilisant le fct \".join\" la tozénisation(tokens_words) faite de notre texte de départ(sentence):\n",
        "# Commme > tokens_words= nltk.sent_tokenize(sentence)\n",
        "\n",
        "string_mots = ' '.join(tokens_words)\n",
        "string_mots"
      ],
      "metadata": {
        "colab": {
          "base_uri": "https://localhost:8080/",
          "height": 36
        },
        "id": "W8BpeeD6sIx_",
        "outputId": "b580955d-97b0-4615-d15d-b2a175b00d23"
      },
      "execution_count": 76,
      "outputs": [
        {
          "output_type": "execute_result",
          "data": {
            "text/plain": [
              "'this is a story about dogs our canine pets dogs are furry animals   ceci est une histoire de chiens nos animaux de compagnie  les chiens sont des animaux à fourrure'"
            ],
            "application/vnd.google.colaboratory.intrinsic+json": {
              "type": "string"
            }
          },
          "metadata": {},
          "execution_count": 76
        }
      ]
    },
    {
      "cell_type": "code",
      "source": [
        "#2) Le lemmatizer a-t-il permis de faire remonter des informations pertinentes en regroupant certains mots de même racine ?\n",
        "\n",
        "import spacy\n",
        "# Import des règles anglaises\n",
        "nlp = spacy.load('en_core_web_sm')\n",
        "\n",
        "# spacy découpe automatiquement en tokens avec cette syntaxe :\n",
        "sent_tokens = nlp(string_mots)\n",
        "\n",
        "for token in sent_tokens:\n",
        "    print(token, token.lemma_)\n",
        "\n",
        "# Remarque: Bête et méchant!:) la méthode du \"lemmatizer\"; permet à ce stade(ici) de trouver les pluriels de certains des mots, pas très pertinent pour un graphe comparatif!"
      ],
      "metadata": {
        "colab": {
          "base_uri": "https://localhost:8080/"
        },
        "id": "-omDaBmndP3k",
        "outputId": "da3b635c-c66d-4e35-96fe-fa9d5729c1b1"
      },
      "execution_count": 77,
      "outputs": [
        {
          "output_type": "stream",
          "name": "stdout",
          "text": [
            "this this\n",
            "is be\n",
            "a a\n",
            "story story\n",
            "about about\n",
            "dogs dog\n",
            "our our\n",
            "canine canine\n",
            "pets pet\n",
            "dogs dog\n",
            "are be\n",
            "furry furry\n",
            "animals animal\n",
            "     \n",
            "ceci ceci\n",
            "est e\n",
            "une une\n",
            "histoire histoire\n",
            "de de\n",
            "chiens chien\n",
            "nos nos\n",
            "animaux animaux\n",
            "de de\n",
            "compagnie compagnie\n",
            "   \n",
            "les les\n",
            "chiens chien\n",
            "sont sont\n",
            "des des\n",
            "animaux animaux\n",
            "à à\n",
            "fourrure fourrure\n"
          ]
        }
      ]
    },
    {
      "cell_type": "code",
      "source": [],
      "metadata": {
        "id": "7Xs5-voewbNX"
      },
      "execution_count": null,
      "outputs": []
    }
  ]
}