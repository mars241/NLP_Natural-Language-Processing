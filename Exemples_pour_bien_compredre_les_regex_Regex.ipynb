{
  "nbformat": 4,
  "nbformat_minor": 0,
  "metadata": {
    "colab": {
      "provenance": [],
      "include_colab_link": true
    },
    "kernelspec": {
      "name": "python3",
      "display_name": "Python 3"
    },
    "language_info": {
      "name": "python"
    }
  },
  "cells": [
    {
      "cell_type": "markdown",
      "metadata": {
        "id": "view-in-github",
        "colab_type": "text"
      },
      "source": [
        "<a href=\"https://colab.research.google.com/github/mars241/NLP_Natural-Language-Processing/blob/main/Exemples_pour_bien_compredre_les_regex_Regex.ipynb\" target=\"_parent\"><img src=\"https://colab.research.google.com/assets/colab-badge.svg\" alt=\"Open In Colab\"/></a>"
      ]
    },
    {
      "cell_type": "code",
      "execution_count": null,
      "metadata": {
        "colab": {
          "base_uri": "https://localhost:8080/"
        },
        "id": "-jzxqD8YnaBB",
        "outputId": "e37e2b9b-6c47-4d9f-c23d-a404f1e16a33"
      },
      "outputs": [
        {
          "output_type": "stream",
          "name": "stdout",
          "text": [
            "['n', 'j', 'c', 'm', 'm', 'e', 'n', 'a', 'l', 'l', 'e']\n"
          ]
        }
      ],
      "source": [
        "import re\n",
        "txt = \"Bonjour, comment allez vous\"\n",
        "x = re.findall(\"[a-n]\", txt)\n",
        "\n",
        "print(x)"
      ]
    },
    {
      "cell_type": "code",
      "source": [
        "txt = \"Bonjour tout le monde, Bonjour encore\"\n",
        "x = re.findall(\"Bo...\", txt)\n",
        "\n",
        "print(x)"
      ],
      "metadata": {
        "colab": {
          "base_uri": "https://localhost:8080/"
        },
        "id": "-5i8jOi3nrM_",
        "outputId": "92cc1860-6225-43b9-f445-e3e3ef769bc4"
      },
      "execution_count": null,
      "outputs": [
        {
          "output_type": "stream",
          "name": "stdout",
          "text": [
            "['Bonjo', 'Bonjo']\n"
          ]
        }
      ]
    },
    {
      "cell_type": "code",
      "source": [
        "txt = \"Hello tous le monde\"\n",
        "x = re.findall(\"^Hello\", txt)\n",
        "\n",
        "if x:\n",
        "  print(\"Oui la chaine de caratère commence par Hello\")\n",
        "else:\n",
        "  print(\"La chaine de caratère ne commence pas par Hello\")"
      ],
      "metadata": {
        "colab": {
          "base_uri": "https://localhost:8080/"
        },
        "id": "2LN-f1HgrZEY",
        "outputId": "2d277e71-7d4e-4b05-d64f-78721e18f8f5"
      },
      "execution_count": null,
      "outputs": [
        {
          "output_type": "stream",
          "name": "stdout",
          "text": [
            "Oui la chaine de caratère commence par Hello\n"
          ]
        }
      ]
    },
    {
      "cell_type": "code",
      "source": [
        "txt = \"Hello tous le monde\"\n",
        "x = re.findall(\"monde$\", txt)\n",
        "\n",
        "if x:\n",
        "  print(\"Oui la chaine de caratère se termine avec monde\")\n",
        "else:\n",
        "  print(\"La chaine de caratère ne se termine pas avec monde\")"
      ],
      "metadata": {
        "colab": {
          "base_uri": "https://localhost:8080/"
        },
        "id": "nnnl4O-NsWxQ",
        "outputId": "afb8e002-bcc3-4ecf-e497-19be13ef7ff1"
      },
      "execution_count": null,
      "outputs": [
        {
          "output_type": "stream",
          "name": "stdout",
          "text": [
            "Oui la chaine de caratère fini par monde\n"
          ]
        }
      ]
    },
    {
      "cell_type": "code",
      "source": [
        "txt = \"Hello tout le monde\"\n",
        "x = re.findall(\"H.*\", txt)\n",
        "\n",
        "print(x)"
      ],
      "metadata": {
        "colab": {
          "base_uri": "https://localhost:8080/"
        },
        "id": "M7LFpdYEtlV6",
        "outputId": "6e05ed61-e02c-43eb-afa6-f1bbeb46d57b"
      },
      "execution_count": null,
      "outputs": [
        {
          "output_type": "stream",
          "name": "stdout",
          "text": [
            "['Hello tout le monde']\n"
          ]
        }
      ]
    },
    {
      "cell_type": "code",
      "source": [
        "# Il affiche tous les caratères qui commencent par \"He\" et se terminent avec \"o\".\n",
        "\n",
        "txt = \"Helloooo planet\"\n",
        "x = re.findall(\"He.+o\", txt)\n",
        "\n",
        "print(x)"
      ],
      "metadata": {
        "colab": {
          "base_uri": "https://localhost:8080/"
        },
        "id": "ZfDRDE2ut9tp",
        "outputId": "9c7c5144-908c-4f90-f9b1-10ad8b691bf1"
      },
      "execution_count": null,
      "outputs": [
        {
          "output_type": "stream",
          "name": "stdout",
          "text": [
            "['Helloooo']\n"
          ]
        }
      ]
    },
    {
      "cell_type": "code",
      "source": [
        "# La différence entre \"*\" et \"+\". \"*\" est une occurence zero ou plusieurs. \"+\" est une occurence un ou plusieurs.\n",
        "\n",
        "txt = \"Hello\"\n",
        "x = re.findall(\"Hello.+\", txt)\n",
        "\n",
        "print(x)\n",
        "\n",
        "y = re.findall(\"Hello.*\", txt)\n",
        "\n",
        "print(y)"
      ],
      "metadata": {
        "colab": {
          "base_uri": "https://localhost:8080/"
        },
        "id": "Dh6W0NgfwK65",
        "outputId": "6fcc23c0-14a4-43df-8a24-d4b1a9f96bb3"
      },
      "execution_count": null,
      "outputs": [
        {
          "output_type": "stream",
          "name": "stdout",
          "text": [
            "[]\n",
            "['Hello']\n"
          ]
        }
      ]
    },
    {
      "cell_type": "code",
      "source": [
        "txt = \"Helllo\"\n",
        "x = re.findall(\"He.{3}o\", txt)\n",
        "\n",
        "print(x)"
      ],
      "metadata": {
        "colab": {
          "base_uri": "https://localhost:8080/"
        },
        "id": "7yCnjo85wOOw",
        "outputId": "ef786fae-695b-47c8-a3c6-7524048c843e"
      },
      "execution_count": null,
      "outputs": [
        {
          "output_type": "stream",
          "name": "stdout",
          "text": [
            "['Helllo']\n"
          ]
        }
      ]
    },
    {
      "cell_type": "code",
      "source": [
        "txt = \"Hello tout le monde\"\n",
        "x = re.findall(\"[hel]\", txt)\n",
        "\n",
        "print(x)\n",
        "\n",
        "if x:\n",
        "  print(\"Oui, il existe au moins une occurence\")\n",
        "else:\n",
        "  print(\"Aucune occurence\")"
      ],
      "metadata": {
        "colab": {
          "base_uri": "https://localhost:8080/"
        },
        "id": "2C4M-oUrxaQa",
        "outputId": "9091cd7d-9c64-4e1f-9a9e-73f3bff9dc91"
      },
      "execution_count": null,
      "outputs": [
        {
          "output_type": "stream",
          "name": "stdout",
          "text": [
            "['e', 'l', 'l', 'l', 'e', 'e']\n",
            "Oui, il existe au moins une occurence\n"
          ]
        }
      ]
    },
    {
      "cell_type": "code",
      "source": [
        "txt = \"Hello tout le monde\"\n",
        "x = re.findall(\"[xyzw]\", txt)\n",
        "\n",
        "print(x)\n",
        "\n",
        "if x:\n",
        "  print(\"Oui, il existe au moins une occurence\")\n",
        "else:\n",
        "  print(\"Aucune occurence\")"
      ],
      "metadata": {
        "colab": {
          "base_uri": "https://localhost:8080/"
        },
        "id": "UlAMdEWiyHCy",
        "outputId": "ee5c20e6-d69b-4296-f857-2dbe46bb5798"
      },
      "execution_count": null,
      "outputs": [
        {
          "output_type": "stream",
          "name": "stdout",
          "text": [
            "[]\n",
            "Aucune occurence\n"
          ]
        }
      ]
    },
    {
      "cell_type": "code",
      "source": [
        "txt = \"Hello tout le monde\"\n",
        "x = re.findall(\"[a-n]\", txt)\n",
        "\n",
        "print(x)\n",
        "\n",
        "if x:\n",
        "  print(\"Oui, il existe au moins une occurence\")\n",
        "else:\n",
        "  print(\"Aucune occurence\")"
      ],
      "metadata": {
        "colab": {
          "base_uri": "https://localhost:8080/"
        },
        "id": "e7IfvTP3yLNw",
        "outputId": "1a9691d7-0b0e-4d53-9d28-5bb2ad069084"
      },
      "execution_count": null,
      "outputs": [
        {
          "output_type": "stream",
          "name": "stdout",
          "text": [
            "['e', 'l', 'l', 'l', 'e', 'm', 'n', 'd', 'e']\n",
            "Oui, il existe au moins une occurence\n"
          ]
        }
      ]
    },
    {
      "cell_type": "code",
      "source": [
        "txt = \"Aujourd'hui, on est le 3 Novembre 2022\"\n",
        "x = re.findall(\"[78]\", txt)\n",
        "\n",
        "print(x)\n",
        "\n",
        "if x:\n",
        "  print(\"Oui, il existe au moins une occurence\")\n",
        "else:\n",
        "  print(\"Aucune occurence\")"
      ],
      "metadata": {
        "colab": {
          "base_uri": "https://localhost:8080/"
        },
        "id": "7E8JCazRyyfW",
        "outputId": "cbf8d2bd-5b9c-484d-c4f7-35656b1431c8"
      },
      "execution_count": null,
      "outputs": [
        {
          "output_type": "stream",
          "name": "stdout",
          "text": [
            "[]\n",
            "Aucune occurence\n"
          ]
        }
      ]
    },
    {
      "cell_type": "code",
      "source": [
        "txt = \"Aujourd'hui, on est le 3 Novembre 2022\"\n",
        "x = re.findall(\"[0-9]\", txt)\n",
        "\n",
        "print(x)\n",
        "\n",
        "if x:\n",
        "  print(\"Oui, il existe au moins une occurence\")\n",
        "else:\n",
        "  print(\"Aucune occurence\")"
      ],
      "metadata": {
        "colab": {
          "base_uri": "https://localhost:8080/"
        },
        "id": "NJgRfKkSy885",
        "outputId": "363b1861-6f45-4050-9e3f-d09fe94b8723"
      },
      "execution_count": null,
      "outputs": [
        {
          "output_type": "stream",
          "name": "stdout",
          "text": [
            "['3', '2', '0', '2', '2']\n",
            "Oui, il existe au moins une occurence\n"
          ]
        }
      ]
    },
    {
      "cell_type": "code",
      "source": [
        "txt = \"Aujourd'hui, on est le 3 Novembre 2022\"\n",
        "x = re.findall(\"[a-zA-Z]\", txt)\n",
        "\n",
        "print(x)\n",
        "\n",
        "if x:\n",
        "  print(\"Oui, il existe au moins une occurence\")\n",
        "else:\n",
        "  print(\"Aucune occurence\")"
      ],
      "metadata": {
        "colab": {
          "base_uri": "https://localhost:8080/"
        },
        "id": "Qko8hPBHzlXh",
        "outputId": "ce5df3cb-ebe4-4a53-8f41-ad06da4b8563"
      },
      "execution_count": null,
      "outputs": [
        {
          "output_type": "stream",
          "name": "stdout",
          "text": [
            "['A', 'u', 'j', 'o', 'u', 'r', 'd', 'h', 'u', 'i', 'o', 'n', 'e', 's', 't', 'l', 'e', 'N', 'o', 'v', 'e', 'm', 'b', 'r', 'e']\n",
            "Oui, il existe au moins une occurence\n"
          ]
        }
      ]
    }
  ]
}